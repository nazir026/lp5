{
  "nbformat": 4,
  "nbformat_minor": 0,
  "metadata": {
    "colab": {
      "provenance": []
    },
    "kernelspec": {
      "name": "python3",
      "display_name": "Python 3"
    },
    "language_info": {
      "name": "python"
    }
  },
  "cells": [
    {
      "cell_type": "code",
      "execution_count": 1,
      "metadata": {
        "id": "kqykS39UPnpH"
      },
      "outputs": [],
      "source": [
        "import numpy as np\n",
        "import pandas as pd\n",
        "import tensorflow as tf\n",
        "from sklearn.model_selection import train_test_split\n",
        "from sklearn.preprocessing import LabelEncoder"
      ]
    },
    {
      "cell_type": "code",
      "source": [
        "# Load the dataset\n",
        "url = 'https://archive.ics.uci.edu/ml/machine-learning-databases/letter-recognition/letter-recognition.data'\n",
        "column_names = ['letter', 'x-box', 'y-box', 'width', 'high', 'onpix', 'x-bar', 'y-bar', 'x2bar', 'y2bar', 'xybar', 'x2ybr', 'xy2br', 'x-ege', 'xegvy', 'y-ege', 'yegvx']\n",
        "data = pd.read_csv(url, header=None, names=column_names)"
      ],
      "metadata": {
        "id": "CvbR4y2EP3qR"
      },
      "execution_count": 3,
      "outputs": []
    },
    {
      "cell_type": "code",
      "source": [
        "# Preprocess the dataset\n",
        "X = data.drop('letter', axis=1)\n",
        "y = data['letter']"
      ],
      "metadata": {
        "id": "ER6DnnPcP5OZ"
      },
      "execution_count": 4,
      "outputs": []
    },
    {
      "cell_type": "code",
      "source": [
        "# Encode labels\n",
        "label_encoder = LabelEncoder()\n",
        "y = label_encoder.fit_transform(y)"
      ],
      "metadata": {
        "id": "Ktusi94RP7rZ"
      },
      "execution_count": 5,
      "outputs": []
    },
    {
      "cell_type": "code",
      "source": [
        "# Split the dataset into training and testing sets\n",
        "X_train, X_test, y_train, y_test = train_test_split(X, y, test_size=0.2, random_state=42)"
      ],
      "metadata": {
        "id": "_mEutIvqP-FT"
      },
      "execution_count": 6,
      "outputs": []
    },
    {
      "cell_type": "code",
      "source": [
        "# Create the DNN model\n",
        "model = tf.keras.Sequential([\n",
        "    tf.keras.layers.Dense(64, activation='relu', input_shape=(16,)),\n",
        "    tf.keras.layers.Dense(64, activation='relu'),\n",
        "    tf.keras.layers.Dense(26, activation='softmax')\n",
        "])"
      ],
      "metadata": {
        "id": "9MG2aYTzQANT"
      },
      "execution_count": 7,
      "outputs": []
    },
    {
      "cell_type": "code",
      "source": [
        "# Compile the model\n",
        "model.compile(optimizer='adam', loss='sparse_categorical_crossentropy', metrics=['accuracy'])"
      ],
      "metadata": {
        "id": "Y6hH4ao-QDvk"
      },
      "execution_count": 8,
      "outputs": []
    },
    {
      "cell_type": "code",
      "source": [
        "# Train the model\n",
        "model.fit(X_train, y_train, epochs=10, batch_size=32, validation_data=(X_test, y_test))"
      ],
      "metadata": {
        "colab": {
          "base_uri": "https://localhost:8080/"
        },
        "id": "XuqQGQY2QG6H",
        "outputId": "74120bf0-104f-46b9-e350-282b673de76d"
      },
      "execution_count": 9,
      "outputs": [
        {
          "output_type": "stream",
          "name": "stdout",
          "text": [
            "Epoch 1/10\n",
            "500/500 [==============================] - 3s 3ms/step - loss: 1.9168 - accuracy: 0.4733 - val_loss: 1.2086 - val_accuracy: 0.6450\n",
            "Epoch 2/10\n",
            "500/500 [==============================] - 1s 2ms/step - loss: 1.0287 - accuracy: 0.7138 - val_loss: 0.9212 - val_accuracy: 0.7427\n",
            "Epoch 3/10\n",
            "500/500 [==============================] - 1s 2ms/step - loss: 0.8400 - accuracy: 0.7642 - val_loss: 0.7827 - val_accuracy: 0.7772\n",
            "Epoch 4/10\n",
            "500/500 [==============================] - 1s 2ms/step - loss: 0.7323 - accuracy: 0.7922 - val_loss: 0.7010 - val_accuracy: 0.8010\n",
            "Epoch 5/10\n",
            "500/500 [==============================] - 1s 3ms/step - loss: 0.6584 - accuracy: 0.8067 - val_loss: 0.6337 - val_accuracy: 0.8213\n",
            "Epoch 6/10\n",
            "500/500 [==============================] - 3s 7ms/step - loss: 0.5987 - accuracy: 0.8211 - val_loss: 0.5860 - val_accuracy: 0.8282\n",
            "Epoch 7/10\n",
            "500/500 [==============================] - 2s 5ms/step - loss: 0.5497 - accuracy: 0.8356 - val_loss: 0.5426 - val_accuracy: 0.8418\n",
            "Epoch 8/10\n",
            "500/500 [==============================] - 2s 4ms/step - loss: 0.5102 - accuracy: 0.8451 - val_loss: 0.4910 - val_accuracy: 0.8503\n",
            "Epoch 9/10\n",
            "500/500 [==============================] - 1s 2ms/step - loss: 0.4673 - accuracy: 0.8592 - val_loss: 0.4597 - val_accuracy: 0.8658\n",
            "Epoch 10/10\n",
            "500/500 [==============================] - 1s 2ms/step - loss: 0.4386 - accuracy: 0.8651 - val_loss: 0.4430 - val_accuracy: 0.8615\n"
          ]
        },
        {
          "output_type": "execute_result",
          "data": {
            "text/plain": [
              "<keras.callbacks.History at 0x7f2ed61afd60>"
            ]
          },
          "metadata": {},
          "execution_count": 9
        }
      ]
    },
    {
      "cell_type": "code",
      "source": [
        "# Evaluate the model\n",
        "test_loss, test_accuracy = model.evaluate(X_test, y_test, verbose=2)\n",
        "print('Test Loss:', test_loss)\n",
        "print('Test Accuracy:', test_accuracy)"
      ],
      "metadata": {
        "colab": {
          "base_uri": "https://localhost:8080/"
        },
        "id": "qEYo9LE7QPuS",
        "outputId": "fdadee10-3b8a-443c-92d4-9e6e37a74036"
      },
      "execution_count": 10,
      "outputs": [
        {
          "output_type": "stream",
          "name": "stdout",
          "text": [
            "125/125 - 0s - loss: 0.4430 - accuracy: 0.8615 - 159ms/epoch - 1ms/step\n",
            "Test Loss: 0.44302335381507874\n",
            "Test Accuracy: 0.8615000247955322\n"
          ]
        }
      ]
    },
    {
      "cell_type": "markdown",
      "source": [
        "--------------------------------------------------------------------------------"
      ],
      "metadata": {
        "id": "n_Dm2dn3QRoy"
      }
    },
    {
      "cell_type": "code",
      "source": [
        "import numpy as np\n",
        "from tensorflow.keras.models import Sequential\n",
        "from tensorflow.keras.layers import Dense, Dropout\n",
        "from tensorflow.keras.optimizers import RMSprop\n",
        "from tensorflow.keras.datasets import mnist\n",
        "import matplotlib.pyplot as plt\n",
        "from sklearn import metrics"
      ],
      "metadata": {
        "id": "HsGZHzRlQk4d"
      },
      "execution_count": 11,
      "outputs": []
    },
    {
      "cell_type": "code",
      "source": [
        "(x_train, y_train), (x_test, y_test) = mnist.load_data()\n",
        "plt.imshow(x_train[0], cmap='gray') # imshow() function which simply displays an image.\n",
        "plt.show()"
      ],
      "metadata": {
        "colab": {
          "base_uri": "https://localhost:8080/",
          "height": 465
        },
        "id": "Xi0R3PDYQnKZ",
        "outputId": "292467dd-dff7-4ea7-bfdd-8a03ec36f14d"
      },
      "execution_count": 12,
      "outputs": [
        {
          "output_type": "stream",
          "name": "stdout",
          "text": [
            "Downloading data from https://storage.googleapis.com/tensorflow/tf-keras-datasets/mnist.npz\n",
            "11490434/11490434 [==============================] - 0s 0us/step\n"
          ]
        },
        {
          "output_type": "display_data",
          "data": {
            "text/plain": [
              "<Figure size 640x480 with 1 Axes>"
            ],
            "image/png": "[encoded data removed]"
          },
          "metadata": {}
        }
      ]
    },
    {
      "cell_type": "code",
      "source": [
        "print(\"X_train shape\", x_train.shape)\n",
        "print(\"y_train shape\", y_train.shape)\n",
        "print(\"X_test shape\", x_test.shape)\n",
        "print(\"y_test shape\", y_test.shape)"
      ],
      "metadata": {
        "colab": {
          "base_uri": "https://localhost:8080/"
        },
        "id": "ViuGtQlNQtuw",
        "outputId": "906a6d29-8db3-4dcf-c1f4-42db39856570"
      },
      "execution_count": 13,
      "outputs": [
        {
          "output_type": "stream",
          "name": "stdout",
          "text": [
            "X_train shape (60000, 28, 28)\n",
            "y_train shape (60000,)\n",
            "X_test shape (10000, 28, 28)\n",
            "y_test shape (10000,)\n"
          ]
        }
      ]
    },
    {
      "cell_type": "code",
      "source": [
        "x_train = x_train.reshape(60000, 784)\n",
        "x_test = x_test.reshape(10000, 784)\n",
        "x_train = x_train.astype('float32') \n",
        "x_test = x_test.astype('float32')\n",
        "x_train /= 255 # Each image has Intensity from 0 to 255\n",
        "x_test /= 255"
      ],
      "metadata": {
        "id": "QzTsRkvKQ1VG"
      },
      "execution_count": 14,
      "outputs": []
    },
    {
      "cell_type": "code",
      "source": [
        "num_classes = 10\n",
        "y_train = np.eye(num_classes)[y_train] "
      ],
      "metadata": {
        "id": "RV7wzM71Q4tW"
      },
      "execution_count": 15,
      "outputs": []
    },
    {
      "cell_type": "code",
      "source": [
        "y_test = np.eye(num_classes)[y_test] \n",
        "model = Sequential()\n",
        "model.add(Dense(512, activation='relu', input_shape=(784,))) \n",
        "model.add(Dropout(0.2)) \n",
        "model.add(Dense(512, activation='relu'))\n",
        "model.add(Dropout(0.2))\n",
        "model.add(Dense(num_classes, activation='softmax')) # 10 neurons ie output node in the output layer."
      ],
      "metadata": {
        "id": "e2tV8pkQQ8jM"
      },
      "execution_count": 16,
      "outputs": []
    },
    {
      "cell_type": "code",
      "source": [
        "# Compile the model\n",
        "model.compile(loss='categorical_crossentropy', # for a multi-class classification problem\n",
        "optimizer=RMSprop(),\n",
        "metrics=['accuracy'])"
      ],
      "metadata": {
        "id": "csyGOjSJQ_75"
      },
      "execution_count": 17,
      "outputs": []
    },
    {
      "cell_type": "code",
      "source": [
        "# Train the model\n",
        "batch_size = 128 # batch_size argument is passed to the layer to define a batch size for the inputs.\n",
        "epochs = 20\n",
        "history = model.fit(x_train, y_train,\n",
        "batch_size=batch_size,\n",
        "epochs=epochs,\n",
        "verbose=1, # verbose=1 will show you an animated progress bar eg. [==========]\n",
        "validation_data=(x_test, y_test)) \n",
        "# 60000image/128=469 batch each"
      ],
      "metadata": {
        "colab": {
          "base_uri": "https://localhost:8080/"
        },
        "id": "XYk2zg_QRCcQ",
        "outputId": "3230af17-0d21-4e37-a13d-1c6847f64a43"
      },
      "execution_count": 18,
      "outputs": [
        {
          "output_type": "stream",
          "name": "stdout",
          "text": [
            "Epoch 1/20\n",
            "469/469 [==============================] - 11s 22ms/step - loss: 0.2511 - accuracy: 0.9227 - val_loss: 0.1411 - val_accuracy: 0.9546\n",
            "Epoch 2/20\n",
            "469/469 [==============================] - 10s 22ms/step - loss: 0.1035 - accuracy: 0.9683 - val_loss: 0.0826 - val_accuracy: 0.9741\n",
            "Epoch 3/20\n",
            "469/469 [==============================] - 11s 23ms/step - loss: 0.0739 - accuracy: 0.9772 - val_loss: 0.0835 - val_accuracy: 0.9753\n",
            "Epoch 4/20\n",
            "469/469 [==============================] - 9s 20ms/step - loss: 0.0603 - accuracy: 0.9812 - val_loss: 0.0640 - val_accuracy: 0.9814\n",
            "Epoch 5/20\n",
            "469/469 [==============================] - 11s 23ms/step - loss: 0.0478 - accuracy: 0.9854 - val_loss: 0.0650 - val_accuracy: 0.9815\n",
            "Epoch 6/20\n",
            "469/469 [==============================] - 11s 23ms/step - loss: 0.0398 - accuracy: 0.9876 - val_loss: 0.0665 - val_accuracy: 0.9812\n",
            "Epoch 7/20\n",
            "469/469 [==============================] - 11s 24ms/step - loss: 0.0334 - accuracy: 0.9894 - val_loss: 0.0701 - val_accuracy: 0.9805\n",
            "Epoch 8/20\n",
            "469/469 [==============================] - 11s 23ms/step - loss: 0.0279 - accuracy: 0.9912 - val_loss: 0.0736 - val_accuracy: 0.9815\n",
            "Epoch 9/20\n",
            "469/469 [==============================] - 10s 20ms/step - loss: 0.0258 - accuracy: 0.9918 - val_loss: 0.0769 - val_accuracy: 0.9804\n",
            "Epoch 10/20\n",
            "469/469 [==============================] - 10s 21ms/step - loss: 0.0235 - accuracy: 0.9923 - val_loss: 0.0644 - val_accuracy: 0.9852\n",
            "Epoch 11/20\n",
            "469/469 [==============================] - 10s 22ms/step - loss: 0.0194 - accuracy: 0.9937 - val_loss: 0.0729 - val_accuracy: 0.9840\n",
            "Epoch 12/20\n",
            "469/469 [==============================] - 11s 23ms/step - loss: 0.0188 - accuracy: 0.9937 - val_loss: 0.0812 - val_accuracy: 0.9829\n",
            "Epoch 13/20\n",
            "469/469 [==============================] - 10s 21ms/step - loss: 0.0179 - accuracy: 0.9941 - val_loss: 0.0737 - val_accuracy: 0.9838\n",
            "Epoch 14/20\n",
            "469/469 [==============================] - 9s 20ms/step - loss: 0.0147 - accuracy: 0.9951 - val_loss: 0.0788 - val_accuracy: 0.9841\n",
            "Epoch 15/20\n",
            "469/469 [==============================] - 11s 22ms/step - loss: 0.0140 - accuracy: 0.9954 - val_loss: 0.0767 - val_accuracy: 0.9835\n",
            "Epoch 16/20\n",
            "469/469 [==============================] - 10s 22ms/step - loss: 0.0133 - accuracy: 0.9954 - val_loss: 0.0751 - val_accuracy: 0.9843\n",
            "Epoch 17/20\n",
            "469/469 [==============================] - 10s 22ms/step - loss: 0.0122 - accuracy: 0.9962 - val_loss: 0.0824 - val_accuracy: 0.9832\n",
            "Epoch 18/20\n",
            "469/469 [==============================] - 11s 22ms/step - loss: 0.0115 - accuracy: 0.9964 - val_loss: 0.0743 - val_accuracy: 0.9847\n",
            "Epoch 19/20\n",
            "469/469 [==============================] - 9s 20ms/step - loss: 0.0105 - accuracy: 0.9966 - val_loss: 0.0800 - val_accuracy: 0.9849\n",
            "Epoch 20/20\n",
            "469/469 [==============================] - 10s 22ms/step - loss: 0.0112 - accuracy: 0.9962 - val_loss: 0.0800 - val_accuracy: 0.9854\n"
          ]
        }
      ]
    },
    {
      "cell_type": "code",
      "source": [
        "# Evaluate the model\n",
        "score = model.evaluate(x_test, y_test, verbose=0)\n",
        "print('Test loss:', score[0])\n",
        "print('Test accuracy:', score[1])\n"
      ],
      "metadata": {
        "colab": {
          "base_uri": "https://localhost:8080/"
        },
        "id": "Q8zLjWwpSbjD",
        "outputId": "15801411-795a-484b-f453-79a828223691"
      },
      "execution_count": 19,
      "outputs": [
        {
          "output_type": "stream",
          "name": "stdout",
          "text": [
            "Test loss: 0.0799582451581955\n",
            "Test accuracy: 0.9854000210762024\n"
          ]
        }
      ]
    }
  ]
}
