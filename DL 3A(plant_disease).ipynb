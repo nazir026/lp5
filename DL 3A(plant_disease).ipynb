{
  "nbformat": 4,
  "nbformat_minor": 0,
  "metadata": {
    "colab": {
      "provenance": [],
      "gpuType": "T4"
    },
    "kernelspec": {
      "name": "python3",
      "display_name": "Python 3"
    },
    "language_info": {
      "name": "python"
    },
    "accelerator": "GPU",
    "gpuClass": "standard"
  },
  "cells": [
    {
      "cell_type": "code",
      "source": [
        "import os\n",
        "import numpy as np\n",
        "import matplotlib.pyplot as plt\n",
        "import tensorflow as tf"
      ],
      "metadata": {
        "id": "Xlg3sxu6rbc1"
      },
      "execution_count": 2,
      "outputs": []
    },
    {
      "cell_type": "code",
      "source": [
        "from tensorflow.keras.preprocessing.image import ImageDataGenerator\n",
        "!wget https://github.com/spMohanty/PlantVillage-Dataset/archive/master.zip\n",
        "!unzip master.zip\n",
        "dataset_dir = 'PlantVillage-Dataset-master/raw/color'"
      ],
      "metadata": {
        "id": "rkVwzJjUrif-"
      },
      "execution_count": null,
      "outputs": []
    },
    {
      "cell_type": "code",
      "source": [
        "train_datagen = ImageDataGenerator(rescale=1./255, validation_split=0.2)\n",
        "test_datagen = ImageDataGenerator(rescale=1./255)"
      ],
      "metadata": {
        "id": "kZqPhHlTtHCP"
      },
      "execution_count": 4,
      "outputs": []
    },
    {
      "cell_type": "code",
      "source": [
        "train_generator = train_datagen.flow_from_directory(\n",
        "    dataset_dir, target_size=(256, 256), batch_size=32, class_mode='categorical', subset='training'\n",
        ")"
      ],
      "metadata": {
        "colab": {
          "base_uri": "https://localhost:8080/"
        },
        "id": "KOzM6gFZtZfv",
        "outputId": "08812b3a-797b-40e1-bdfb-2ae63016a90c"
      },
      "execution_count": 6,
      "outputs": [
        {
          "output_type": "stream",
          "name": "stdout",
          "text": [
            "Found 43456 images belonging to 38 classes.\n"
          ]
        }
      ]
    },
    {
      "cell_type": "code",
      "source": [
        "validation_generator = train_datagen.flow_from_directory(\n",
        "    dataset_dir, target_size=(256, 256), batch_size=32, class_mode='categorical', subset='validation'\n",
        ")"
      ],
      "metadata": {
        "colab": {
          "base_uri": "https://localhost:8080/"
        },
        "id": "7TzJOsawtclx",
        "outputId": "2767ea68-831c-4159-a5ca-2979aedb652d"
      },
      "execution_count": 7,
      "outputs": [
        {
          "output_type": "stream",
          "name": "stdout",
          "text": [
            "Found 10849 images belonging to 38 classes.\n"
          ]
        }
      ]
    },
    {
      "cell_type": "code",
      "source": [
        "model = tf.keras.models.Sequential([\n",
        "    tf.keras.layers.Conv2D(32, (3, 3), activation='relu', input_shape=(256, 256, 3)),\n",
        "    tf.keras.layers.MaxPooling2D((2, 2)),\n",
        "    tf.keras.layers.Conv2D(64, (3, 3), activation='relu'),\n",
        "    tf.keras.layers.MaxPooling2D((2, 2)),\n",
        "    tf.keras.layers.Conv2D(128, (3, 3), activation='relu'),\n",
        "    tf.keras.layers.MaxPooling2D((2, 2)),\n",
        "    tf.keras.layers.Conv2D(128, (3, 3), activation='relu'),\n",
        "    tf.keras.layers.MaxPooling2D((2, 2)),\n",
        "    tf.keras.layers.Flatten(),\n",
        "    tf.keras.layers.Dense(512, activation='relu'),\n",
        "    tf.keras.layers.Dense(38, activation='softmax')\n",
        "])"
      ],
      "metadata": {
        "id": "7jKgMDcetjDS"
      },
      "execution_count": 8,
      "outputs": []
    },
    {
      "cell_type": "code",
      "source": [
        "model.compile(optimizer='adam', loss='categorical_crossentropy', metrics=['accuracy'])"
      ],
      "metadata": {
        "id": "ZY9YVuqitn6L"
      },
      "execution_count": 9,
      "outputs": []
    },
    {
      "cell_type": "code",
      "source": [
        "history = model.fit(train_generator, steps_per_epoch=train_generator.samples // train_generator.batch_size, epochs=10,\n",
        "                    validation_data=validation_generator,\n",
        "                    validation_steps=validation_generator.samples // validation_generator.batch_size)"
      ],
      "metadata": {
        "colab": {
          "base_uri": "https://localhost:8080/"
        },
        "id": "Fdm2Z_FLt2WU",
        "outputId": "16d7f709-96d2-4089-a68d-461cb3477f8b"
      },
      "execution_count": 10,
      "outputs": [
        {
          "output_type": "stream",
          "name": "stdout",
          "text": [
            "Epoch 1/10\n",
            "1358/1358 [==============================] - 171s 117ms/step - loss: 0.9794 - accuracy: 0.7132 - val_loss: 0.4891 - val_accuracy: 0.8449\n",
            "Epoch 2/10\n",
            "1358/1358 [==============================] - 178s 131ms/step - loss: 0.3051 - accuracy: 0.9023 - val_loss: 0.2816 - val_accuracy: 0.9109\n",
            "Epoch 3/10\n",
            "1358/1358 [==============================] - 167s 123ms/step - loss: 0.1764 - accuracy: 0.9423 - val_loss: 0.2837 - val_accuracy: 0.9119\n",
            "Epoch 4/10\n",
            "1358/1358 [==============================] - 169s 124ms/step - loss: 0.1255 - accuracy: 0.9581 - val_loss: 0.3257 - val_accuracy: 0.9094\n",
            "Epoch 5/10\n",
            "1358/1358 [==============================] - 170s 125ms/step - loss: 0.0973 - accuracy: 0.9675 - val_loss: 0.2441 - val_accuracy: 0.9337\n",
            "Epoch 6/10\n",
            "1358/1358 [==============================] - 167s 123ms/step - loss: 0.0677 - accuracy: 0.9772 - val_loss: 0.2810 - val_accuracy: 0.9251\n",
            "Epoch 7/10\n",
            "1358/1358 [==============================] - 172s 127ms/step - loss: 0.0679 - accuracy: 0.9777 - val_loss: 0.3212 - val_accuracy: 0.9219\n",
            "Epoch 8/10\n",
            "1358/1358 [==============================] - 169s 125ms/step - loss: 0.0491 - accuracy: 0.9837 - val_loss: 0.2820 - val_accuracy: 0.9309\n",
            "Epoch 9/10\n",
            "1358/1358 [==============================] - 154s 113ms/step - loss: 0.0663 - accuracy: 0.9791 - val_loss: 0.2961 - val_accuracy: 0.9267\n",
            "Epoch 10/10\n",
            "1358/1358 [==============================] - 170s 125ms/step - loss: 0.0456 - accuracy: 0.9863 - val_loss: 0.3315 - val_accuracy: 0.9264\n"
          ]
        }
      ]
    },
    {
      "cell_type": "code",
      "source": [
        "plt.plot(history.history['accuracy'])\n",
        "plt.plot(history.history['val_accuracy'])\n",
        "plt.title('Model Accuracy')\n",
        "plt.xlabel('Epoch')\n",
        "plt.ylabel('Accuracy')\n",
        "plt.legend(['Train', 'Validation'], loc='upper left')\n",
        "plt.show()"
      ],
      "metadata": {
        "colab": {
          "base_uri": "https://localhost:8080/",
          "height": 472
        },
        "id": "Kead1FfD11pJ",
        "outputId": "8124496c-07a6-414a-fc0b-3db09668a331"
      },
      "execution_count": 11,
      "outputs": [
        {
          "output_type": "display_data",
          "data": {
            "text/plain": [
              "<Figure size 640x480 with 1 Axes>"
            ],
            "image/png": "[encoded data removed]"
          },
          "metadata": {}
        }
      ]
    }
  ]
}